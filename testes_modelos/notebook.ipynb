{
 "cells": [
  {
   "cell_type": "code",
   "execution_count": 1,
   "metadata": {},
   "outputs": [],
   "source": [
    "import numpy as np\n",
    "import pandas as pd"
   ]
  },
  {
   "cell_type": "code",
   "execution_count": null,
   "metadata": {},
   "outputs": [],
   "source": [
    "# model_name = \"danielribeiro/google-play-sentiment-analysis\"\n",
    "# Use a pipeline as a high-level helper\n",
    "\n",
    "# from transformers import pipeline\n",
    "# pipe = pipeline(\"text-classification\", model=\"danielribeiro/google-play-sentiment-analysis\")\n",
    "# pipe('qyakqerl')"
   ]
  },
  {
   "cell_type": "markdown",
   "metadata": {},
   "source": [
    "# SST2 - PT"
   ]
  },
  {
   "cell_type": "code",
   "execution_count": 31,
   "metadata": {},
   "outputs": [],
   "source": [
    "from datasets import load_dataset\n",
    "\n",
    "ds = load_dataset(\"maritaca-ai/sst2_pt\")"
   ]
  },
  {
   "cell_type": "code",
   "execution_count": 32,
   "metadata": {},
   "outputs": [],
   "source": [
    "data_val = ds['validation'].rename_column('label', 'true_label')"
   ]
  },
  {
   "cell_type": "code",
   "execution_count": 33,
   "metadata": {},
   "outputs": [],
   "source": [
    "df_sst2 = pd.DataFrame(data=data_val)"
   ]
  },
  {
   "cell_type": "code",
   "execution_count": 34,
   "metadata": {},
   "outputs": [
    {
     "data": {
      "text/html": [
       "<div>\n",
       "<style scoped>\n",
       "    .dataframe tbody tr th:only-of-type {\n",
       "        vertical-align: middle;\n",
       "    }\n",
       "\n",
       "    .dataframe tbody tr th {\n",
       "        vertical-align: top;\n",
       "    }\n",
       "\n",
       "    .dataframe thead th {\n",
       "        text-align: right;\n",
       "    }\n",
       "</style>\n",
       "<table border=\"1\" class=\"dataframe\">\n",
       "  <thead>\n",
       "    <tr style=\"text-align: right;\">\n",
       "      <th></th>\n",
       "      <th>text</th>\n",
       "      <th>true_label</th>\n",
       "    </tr>\n",
       "  </thead>\n",
       "  <tbody>\n",
       "    <tr>\n",
       "      <th>0</th>\n",
       "      <td>É uma jornada encantadora e muitas vezes afeta.</td>\n",
       "      <td>1</td>\n",
       "    </tr>\n",
       "    <tr>\n",
       "      <th>1</th>\n",
       "      <td>inabalável e desesperado</td>\n",
       "      <td>0</td>\n",
       "    </tr>\n",
       "    <tr>\n",
       "      <th>2</th>\n",
       "      <td>Permite -nos esperar que Nolan esteja pronto p...</td>\n",
       "      <td>1</td>\n",
       "    </tr>\n",
       "    <tr>\n",
       "      <th>3</th>\n",
       "      <td>A atuação, figurinos, música, cinematografia e...</td>\n",
       "      <td>1</td>\n",
       "    </tr>\n",
       "    <tr>\n",
       "      <th>4</th>\n",
       "      <td>É lento - muito, muito lento.</td>\n",
       "      <td>0</td>\n",
       "    </tr>\n",
       "  </tbody>\n",
       "</table>\n",
       "</div>"
      ],
      "text/plain": [
       "                                                text  true_label\n",
       "0    É uma jornada encantadora e muitas vezes afeta.           1\n",
       "1                           inabalável e desesperado           0\n",
       "2  Permite -nos esperar que Nolan esteja pronto p...           1\n",
       "3  A atuação, figurinos, música, cinematografia e...           1\n",
       "4                      É lento - muito, muito lento.           0"
      ]
     },
     "execution_count": 34,
     "metadata": {},
     "output_type": "execute_result"
    }
   ],
   "source": [
    "df_sst2.head()"
   ]
  },
  {
   "cell_type": "code",
   "execution_count": 7,
   "metadata": {},
   "outputs": [],
   "source": [
    "# df_sst2.to_csv('../data/maritaca-ai_sst2_pt.csv', index=False)"
   ]
  },
  {
   "cell_type": "code",
   "execution_count": 8,
   "metadata": {},
   "outputs": [
    {
     "name": "stderr",
     "output_type": "stream",
     "text": [
      "Generating train split: 872 examples [00:00, 45908.43 examples/s]\n"
     ]
    }
   ],
   "source": [
    "# ds = load_dataset('csv', data_files='../data/maritaca-ai_sst2_pt.csv')"
   ]
  },
  {
   "cell_type": "markdown",
   "metadata": {},
   "source": [
    "# IMDB - PT"
   ]
  },
  {
   "cell_type": "code",
   "execution_count": 3,
   "metadata": {},
   "outputs": [
    {
     "name": "stderr",
     "output_type": "stream",
     "text": [
      "/home/viviane/Documents/Computação Evolutiva/Trabalho_2/env/lib/python3.10/site-packages/tqdm/auto.py:21: TqdmWarning: IProgress not found. Please update jupyter and ipywidgets. See https://ipywidgets.readthedocs.io/en/stable/user_install.html\n",
      "  from .autonotebook import tqdm as notebook_tqdm\n",
      "Downloading data: 100%|██████████| 20.6M/20.6M [00:04<00:00, 4.14MB/s]\n",
      "Downloading data: 100%|██████████| 4.16M/4.16M [00:01<00:00, 3.01MB/s]\n",
      "Downloading data: 100%|██████████| 20.2M/20.2M [00:03<00:00, 5.13MB/s]\n",
      "Generating train split: 100%|██████████| 25000/25000 [00:00<00:00, 113859.07 examples/s]\n",
      "Generating test split: 100%|██████████| 5000/5000 [00:00<00:00, 132608.60 examples/s]\n",
      "Generating test_all split: 100%|██████████| 25000/25000 [00:00<00:00, 135495.59 examples/s]\n"
     ]
    }
   ],
   "source": [
    "from datasets import load_dataset\n",
    "\n",
    "ds = load_dataset(\"maritaca-ai/imdb_pt\")"
   ]
  },
  {
   "cell_type": "code",
   "execution_count": 4,
   "metadata": {},
   "outputs": [],
   "source": [
    "imdb_val = ds['test'].rename_column('label', 'true_label')"
   ]
  },
  {
   "cell_type": "code",
   "execution_count": 5,
   "metadata": {},
   "outputs": [],
   "source": [
    "df_imdb = pd.DataFrame(data=imdb_val)"
   ]
  },
  {
   "cell_type": "code",
   "execution_count": 6,
   "metadata": {},
   "outputs": [
    {
     "data": {
      "text/html": [
       "<div>\n",
       "<style scoped>\n",
       "    .dataframe tbody tr th:only-of-type {\n",
       "        vertical-align: middle;\n",
       "    }\n",
       "\n",
       "    .dataframe tbody tr th {\n",
       "        vertical-align: top;\n",
       "    }\n",
       "\n",
       "    .dataframe thead th {\n",
       "        text-align: right;\n",
       "    }\n",
       "</style>\n",
       "<table border=\"1\" class=\"dataframe\">\n",
       "  <thead>\n",
       "    <tr style=\"text-align: right;\">\n",
       "      <th></th>\n",
       "      <th>text</th>\n",
       "      <th>true_label</th>\n",
       "    </tr>\n",
       "  </thead>\n",
       "  <tbody>\n",
       "    <tr>\n",
       "      <th>0</th>\n",
       "      <td>Como coisas assim ainda podem ser feitas? Sein...</td>\n",
       "      <td>0</td>\n",
       "    </tr>\n",
       "    <tr>\n",
       "      <th>1</th>\n",
       "      <td>Half -Have Dead era diferente de qualquer film...</td>\n",
       "      <td>0</td>\n",
       "    </tr>\n",
       "    <tr>\n",
       "      <th>2</th>\n",
       "      <td>Outro filme do país montanhoso sueco, que é se...</td>\n",
       "      <td>0</td>\n",
       "    </tr>\n",
       "    <tr>\n",
       "      <th>3</th>\n",
       "      <td>OK, eu fui a este site antes de assistir a est...</td>\n",
       "      <td>0</td>\n",
       "    </tr>\n",
       "    <tr>\n",
       "      <th>4</th>\n",
       "      <td>Esta é de longe a pior coisa que já vi no film...</td>\n",
       "      <td>0</td>\n",
       "    </tr>\n",
       "  </tbody>\n",
       "</table>\n",
       "</div>"
      ],
      "text/plain": [
       "                                                text  true_label\n",
       "0  Como coisas assim ainda podem ser feitas? Sein...           0\n",
       "1  Half -Have Dead era diferente de qualquer film...           0\n",
       "2  Outro filme do país montanhoso sueco, que é se...           0\n",
       "3  OK, eu fui a este site antes de assistir a est...           0\n",
       "4  Esta é de longe a pior coisa que já vi no film...           0"
      ]
     },
     "execution_count": 6,
     "metadata": {},
     "output_type": "execute_result"
    }
   ],
   "source": [
    "df_imdb.head()"
   ]
  },
  {
   "cell_type": "code",
   "execution_count": 7,
   "metadata": {},
   "outputs": [],
   "source": [
    "df_imdb.to_csv('../data/maritaca-ai_imdb_pt.csv', index=False)"
   ]
  },
  {
   "cell_type": "markdown",
   "metadata": {},
   "source": [
    "# Concatena as bases"
   ]
  },
  {
   "cell_type": "code",
   "execution_count": 39,
   "metadata": {},
   "outputs": [],
   "source": [
    "df = pd.concat([df_sst2, df_imdb], axis=0)"
   ]
  },
  {
   "cell_type": "code",
   "execution_count": 40,
   "metadata": {},
   "outputs": [
    {
     "data": {
      "text/html": [
       "<div>\n",
       "<style scoped>\n",
       "    .dataframe tbody tr th:only-of-type {\n",
       "        vertical-align: middle;\n",
       "    }\n",
       "\n",
       "    .dataframe tbody tr th {\n",
       "        vertical-align: top;\n",
       "    }\n",
       "\n",
       "    .dataframe thead th {\n",
       "        text-align: right;\n",
       "    }\n",
       "</style>\n",
       "<table border=\"1\" class=\"dataframe\">\n",
       "  <thead>\n",
       "    <tr style=\"text-align: right;\">\n",
       "      <th></th>\n",
       "      <th>text</th>\n",
       "      <th>true_label</th>\n",
       "    </tr>\n",
       "  </thead>\n",
       "  <tbody>\n",
       "    <tr>\n",
       "      <th>0</th>\n",
       "      <td>É uma jornada encantadora e muitas vezes afeta.</td>\n",
       "      <td>1</td>\n",
       "    </tr>\n",
       "    <tr>\n",
       "      <th>1</th>\n",
       "      <td>inabalável e desesperado</td>\n",
       "      <td>0</td>\n",
       "    </tr>\n",
       "    <tr>\n",
       "      <th>2</th>\n",
       "      <td>Permite -nos esperar que Nolan esteja pronto p...</td>\n",
       "      <td>1</td>\n",
       "    </tr>\n",
       "    <tr>\n",
       "      <th>3</th>\n",
       "      <td>A atuação, figurinos, música, cinematografia e...</td>\n",
       "      <td>1</td>\n",
       "    </tr>\n",
       "    <tr>\n",
       "      <th>4</th>\n",
       "      <td>É lento - muito, muito lento.</td>\n",
       "      <td>0</td>\n",
       "    </tr>\n",
       "  </tbody>\n",
       "</table>\n",
       "</div>"
      ],
      "text/plain": [
       "                                                text  true_label\n",
       "0    É uma jornada encantadora e muitas vezes afeta.           1\n",
       "1                           inabalável e desesperado           0\n",
       "2  Permite -nos esperar que Nolan esteja pronto p...           1\n",
       "3  A atuação, figurinos, música, cinematografia e...           1\n",
       "4                      É lento - muito, muito lento.           0"
      ]
     },
     "execution_count": 40,
     "metadata": {},
     "output_type": "execute_result"
    }
   ],
   "source": [
    "df.head()"
   ]
  },
  {
   "cell_type": "code",
   "execution_count": 42,
   "metadata": {},
   "outputs": [
    {
     "data": {
      "text/plain": [
       "((5000, 2), (872, 2), (5872, 2))"
      ]
     },
     "execution_count": 42,
     "metadata": {},
     "output_type": "execute_result"
    }
   ],
   "source": [
    "df_imdb.shape, df_sst2.shape, df.shape"
   ]
  },
  {
   "cell_type": "code",
   "execution_count": 43,
   "metadata": {},
   "outputs": [],
   "source": [
    "df.to_csv('../data/maritaca-ai_sst2_imdb_pt.csv', index=False)"
   ]
  },
  {
   "cell_type": "markdown",
   "metadata": {},
   "source": []
  },
  {
   "cell_type": "code",
   "execution_count": 12,
   "metadata": {},
   "outputs": [],
   "source": [
    "# vals = data_val.map(lambda x: pipe(x['text'])[0])\n",
    "# vals[0]\n",
    "# df = pd.DataFrame(vals)\n",
    "# df.head()\n",
    "# df['model_label'] = df['label'].replace('Positivo', 1).replace('Negativo', 0).replace('Neutro', -1)\n",
    "# df[df['label']!= 'Neutro']['model_label'].value_counts()\n",
    "# from sklearn.metrics import classification_report\n",
    "\n",
    "# print(classification_report(\n",
    "#     df[df['label']!='Neutro']['true_label'], \n",
    "#     df[df['label']!='Neutro']['model_label']))\n",
    "# def objective_function(x, *args):\n",
    "#     \"\"\"created from `parallel_objective` argument\"\"\"\n",
    "#     return parallel_objective([x], *args)[0]"
   ]
  },
  {
   "cell_type": "code",
   "execution_count": 8,
   "metadata": {},
   "outputs": [],
   "source": [
    "import pandas as pd\n",
    "from sklearn.metrics import f1_score\n",
    "from transformers import pipeline\n",
    "from datasets import load_dataset\n",
    "\n",
    "def _eval_model(merged_path: str, dataset: str):\n",
    "    \n",
    "    print(f'Avaliando modelo {merged_path}')\n",
    "    \n",
    "    pipe = pipeline(\n",
    "        \"text-classification\", \n",
    "        model=merged_path,\n",
    "        tokenizer=merged_path,\n",
    "        device='cuda',\n",
    "        truncation=True\n",
    "    )\n",
    "    tokenizer_kwargs = {\n",
    "        'padding':True,\n",
    "        'truncation':True,\n",
    "        'max_length':512\n",
    "    }\n",
    "\n",
    "    data_val = load_dataset('csv', data_files=dataset)\n",
    "    vals = data_val['train'].map(\n",
    "        lambda x: pipe(x['text'], **tokenizer_kwargs)[0]\n",
    "    )\n",
    "    df = pd.DataFrame(vals)\n",
    "    df['model_label'] = df['label'].replace('Positivo', 1).replace('Negativo', 0).replace('Neutro', -1)\n",
    "    res = f1_score(\n",
    "        df[df['label']!='Neutro']['true_label'], \n",
    "        df[df['label']!='Neutro']['model_label'], \n",
    "        average='binary'\n",
    "    )\n",
    "    results = {\n",
    "        'dataset': {\n",
    "            'acc,none': res,\n",
    "        }\n",
    "    }\n",
    "    return {\"score\": res, \"results\": results}"
   ]
  },
  {
   "cell_type": "code",
   "execution_count": 9,
   "metadata": {},
   "outputs": [
    {
     "name": "stdout",
     "output_type": "stream",
     "text": [
      "Avaliando modelo danielribeiro/google-play-sentiment-analysis\n"
     ]
    },
    {
     "name": "stderr",
     "output_type": "stream",
     "text": [
      "Map:   1%|          | 9/872 [00:00<01:08, 12.53 examples/s]You seem to be using the pipelines sequentially on GPU. In order to maximize efficiency please use a dataset\n",
      "Map: 100%|██████████| 872/872 [00:29<00:00, 29.67 examples/s]\n",
      "/tmp/ipykernel_377494/834985490.py:28: FutureWarning: Downcasting behavior in `replace` is deprecated and will be removed in a future version. To retain the old behavior, explicitly call `result.infer_objects(copy=False)`. To opt-in to the future behavior, set `pd.set_option('future.no_silent_downcasting', True)`\n",
      "  df['model_label'] = df['label'].replace('Positivo', 1).replace('Negativo', 0).replace('Neutro', -1)\n"
     ]
    },
    {
     "data": {
      "text/plain": [
       "{'score': 0.8701298701298701,\n",
       " 'results': {'dataset': {'acc,none': 0.8701298701298701}}}"
      ]
     },
     "execution_count": 9,
     "metadata": {},
     "output_type": "execute_result"
    }
   ],
   "source": [
    "model_name = \"danielribeiro/google-play-sentiment-analysis\"\n",
    "_eval_model(model_name, '../data/maritaca-ai_sst2_pt.csv')"
   ]
  },
  {
   "cell_type": "code",
   "execution_count": 10,
   "metadata": {},
   "outputs": [
    {
     "name": "stdout",
     "output_type": "stream",
     "text": [
      "Avaliando modelo danielribeiro/google-play-sentiment-analysis\n"
     ]
    },
    {
     "name": "stderr",
     "output_type": "stream",
     "text": [
      "Map: 100%|██████████| 5000/5000 [11:12<00:00,  7.44 examples/s]\n",
      "/tmp/ipykernel_377494/834985490.py:28: FutureWarning: Downcasting behavior in `replace` is deprecated and will be removed in a future version. To retain the old behavior, explicitly call `result.infer_objects(copy=False)`. To opt-in to the future behavior, set `pd.set_option('future.no_silent_downcasting', True)`\n",
      "  df['model_label'] = df['label'].replace('Positivo', 1).replace('Negativo', 0).replace('Neutro', -1)\n"
     ]
    },
    {
     "data": {
      "text/plain": [
       "{'score': 0.7833643699565487,\n",
       " 'results': {'dataset': {'acc,none': 0.7833643699565487}}}"
      ]
     },
     "execution_count": 10,
     "metadata": {},
     "output_type": "execute_result"
    }
   ],
   "source": [
    "model_name = \"danielribeiro/google-play-sentiment-analysis\"\n",
    "_eval_model(model_name, '../data/maritaca-ai_imdb_pt.csv')"
   ]
  },
  {
   "cell_type": "code",
   "execution_count": null,
   "metadata": {},
   "outputs": [],
   "source": []
  }
 ],
 "metadata": {
  "kernelspec": {
   "display_name": "env",
   "language": "python",
   "name": "python3"
  },
  "language_info": {
   "codemirror_mode": {
    "name": "ipython",
    "version": 3
   },
   "file_extension": ".py",
   "mimetype": "text/x-python",
   "name": "python",
   "nbconvert_exporter": "python",
   "pygments_lexer": "ipython3",
   "version": "3.10.12"
  }
 },
 "nbformat": 4,
 "nbformat_minor": 2
}
