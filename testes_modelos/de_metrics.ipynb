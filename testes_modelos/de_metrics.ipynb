{
 "cells": [
  {
   "cell_type": "code",
   "execution_count": 1,
   "metadata": {},
   "outputs": [
    {
     "name": "stderr",
     "output_type": "stream",
     "text": [
      "/home/viviane/Documents/Computação Evolutiva/Trabalho_2/env/lib/python3.10/site-packages/tqdm/auto.py:21: TqdmWarning: IProgress not found. Please update jupyter and ipywidgets. See https://ipywidgets.readthedocs.io/en/stable/user_install.html\n",
      "  from .autonotebook import tqdm as notebook_tqdm\n"
     ]
    }
   ],
   "source": [
    "import pandas as pd\n",
    "from sklearn.metrics import f1_score\n",
    "from transformers import pipeline\n",
    "from datasets import load_dataset"
   ]
  },
  {
   "cell_type": "code",
   "execution_count": 2,
   "metadata": {},
   "outputs": [],
   "source": [
    "def _eval_model(merged_path: str, dataset: str):\n",
    "    \n",
    "    print(f'Avaliando modelo {merged_path}')\n",
    "    \n",
    "    pipe = pipeline(\n",
    "        \"text-classification\", \n",
    "        model=merged_path,\n",
    "        tokenizer=merged_path,\n",
    "        device='cuda',\n",
    "        truncation=True\n",
    "    )\n",
    "    tokenizer_kwargs = {\n",
    "        'padding':True,\n",
    "        'truncation':True,\n",
    "        'max_length':512\n",
    "    }\n",
    "\n",
    "    data_val = load_dataset('csv', data_files=dataset)\n",
    "    vals = data_val['train'].map(\n",
    "        lambda x: pipe(x['text'], **tokenizer_kwargs)[0]\n",
    "    )\n",
    "    df = pd.DataFrame(vals)\n",
    "    df['model_label'] = df['label'].replace('Positivo', 1).replace('Negativo', 0).replace('Neutro', -1)\n",
    "    res = f1_score(\n",
    "        df[df['label']!='Neutro']['true_label'], \n",
    "        df[df['label']!='Neutro']['model_label'], \n",
    "        average='binary'\n",
    "    )\n",
    "    results = {\n",
    "        'dataset': {\n",
    "            'acc,none': res,\n",
    "        }\n",
    "    }\n",
    "    return {\"score\": res, \"results\": results}"
   ]
  },
  {
   "cell_type": "code",
   "execution_count": 3,
   "metadata": {},
   "outputs": [],
   "source": [
    "datasets = ['../data/maritaca-ai_sst2_pt.csv', '../data/maritaca-ai_imdb_pt.csv']"
   ]
  },
  {
   "cell_type": "code",
   "execution_count": 4,
   "metadata": {},
   "outputs": [
    {
     "name": "stdout",
     "output_type": "stream",
     "text": [
      "Avaliando modelo /home/viviane/Documents/Computação Evolutiva/Trabalho_2/mergekit/de_merged/merge_1/final_model\n"
     ]
    },
    {
     "name": "stderr",
     "output_type": "stream",
     "text": [
      "Map:   1%|          | 9/872 [00:00<00:51, 16.60 examples/s]You seem to be using the pipelines sequentially on GPU. In order to maximize efficiency please use a dataset\n",
      "Map: 100%|██████████| 872/872 [00:30<00:00, 28.88 examples/s]\n",
      "/tmp/ipykernel_402241/425260471.py:23: FutureWarning: Downcasting behavior in `replace` is deprecated and will be removed in a future version. To retain the old behavior, explicitly call `result.infer_objects(copy=False)`. To opt-in to the future behavior, set `pd.set_option('future.no_silent_downcasting', True)`\n",
      "  df['model_label'] = df['label'].replace('Positivo', 1).replace('Negativo', 0).replace('Neutro', -1)\n"
     ]
    },
    {
     "name": "stdout",
     "output_type": "stream",
     "text": [
      "Avaliando modelo /home/viviane/Documents/Computação Evolutiva/Trabalho_2/mergekit/de_merged/merge_2/final_model\n"
     ]
    },
    {
     "name": "stderr",
     "output_type": "stream",
     "text": [
      "Some weights of BertForSequenceClassification were not initialized from the model checkpoint at /home/viviane/Documents/Computação Evolutiva/Trabalho_2/mergekit/de_merged/merge_2/final_model and are newly initialized: ['classifier.bias', 'classifier.weight']\n",
      "You should probably TRAIN this model on a down-stream task to be able to use it for predictions and inference.\n",
      "Map: 100%|██████████| 872/872 [00:27<00:00, 31.55 examples/s]\n",
      "/tmp/ipykernel_402241/425260471.py:23: FutureWarning: Downcasting behavior in `replace` is deprecated and will be removed in a future version. To retain the old behavior, explicitly call `result.infer_objects(copy=False)`. To opt-in to the future behavior, set `pd.set_option('future.no_silent_downcasting', True)`\n",
      "  df['model_label'] = df['label'].replace('Positivo', 1).replace('Negativo', 0).replace('Neutro', -1)\n"
     ]
    },
    {
     "name": "stdout",
     "output_type": "stream",
     "text": [
      "Avaliando modelo /home/viviane/Documents/Computação Evolutiva/Trabalho_2/mergekit/de_merged/merge_3/final_model\n"
     ]
    },
    {
     "name": "stderr",
     "output_type": "stream",
     "text": [
      "Map: 100%|██████████| 872/872 [00:26<00:00, 32.83 examples/s]\n",
      "/tmp/ipykernel_402241/425260471.py:23: FutureWarning: Downcasting behavior in `replace` is deprecated and will be removed in a future version. To retain the old behavior, explicitly call `result.infer_objects(copy=False)`. To opt-in to the future behavior, set `pd.set_option('future.no_silent_downcasting', True)`\n",
      "  df['model_label'] = df['label'].replace('Positivo', 1).replace('Negativo', 0).replace('Neutro', -1)\n"
     ]
    },
    {
     "name": "stdout",
     "output_type": "stream",
     "text": [
      "Avaliando modelo /home/viviane/Documents/Computação Evolutiva/Trabalho_2/mergekit/de_merged/merge_4/final_model\n"
     ]
    },
    {
     "name": "stderr",
     "output_type": "stream",
     "text": [
      "Map: 100%|██████████| 872/872 [00:26<00:00, 32.98 examples/s]\n",
      "/tmp/ipykernel_402241/425260471.py:23: FutureWarning: Downcasting behavior in `replace` is deprecated and will be removed in a future version. To retain the old behavior, explicitly call `result.infer_objects(copy=False)`. To opt-in to the future behavior, set `pd.set_option('future.no_silent_downcasting', True)`\n",
      "  df['model_label'] = df['label'].replace('Positivo', 1).replace('Negativo', 0).replace('Neutro', -1)\n"
     ]
    },
    {
     "name": "stdout",
     "output_type": "stream",
     "text": [
      "Avaliando modelo /home/viviane/Documents/Computação Evolutiva/Trabalho_2/mergekit/de_merged/merge_5/final_model\n"
     ]
    },
    {
     "name": "stderr",
     "output_type": "stream",
     "text": [
      "Some weights of BertForSequenceClassification were not initialized from the model checkpoint at /home/viviane/Documents/Computação Evolutiva/Trabalho_2/mergekit/de_merged/merge_5/final_model and are newly initialized: ['classifier.bias', 'classifier.weight']\n",
      "You should probably TRAIN this model on a down-stream task to be able to use it for predictions and inference.\n",
      "Map: 100%|██████████| 872/872 [00:27<00:00, 31.86 examples/s]\n",
      "/tmp/ipykernel_402241/425260471.py:23: FutureWarning: Downcasting behavior in `replace` is deprecated and will be removed in a future version. To retain the old behavior, explicitly call `result.infer_objects(copy=False)`. To opt-in to the future behavior, set `pd.set_option('future.no_silent_downcasting', True)`\n",
      "  df['model_label'] = df['label'].replace('Positivo', 1).replace('Negativo', 0).replace('Neutro', -1)\n"
     ]
    },
    {
     "name": "stdout",
     "output_type": "stream",
     "text": [
      "Avaliando modelo /home/viviane/Documents/Computação Evolutiva/Trabalho_2/mergekit/de_merged/merge_1/final_model\n"
     ]
    },
    {
     "name": "stderr",
     "output_type": "stream",
     "text": [
      "Map: 100%|██████████| 5000/5000 [11:01<00:00,  7.55 examples/s]\n",
      "/tmp/ipykernel_402241/425260471.py:23: FutureWarning: Downcasting behavior in `replace` is deprecated and will be removed in a future version. To retain the old behavior, explicitly call `result.infer_objects(copy=False)`. To opt-in to the future behavior, set `pd.set_option('future.no_silent_downcasting', True)`\n",
      "  df['model_label'] = df['label'].replace('Positivo', 1).replace('Negativo', 0).replace('Neutro', -1)\n"
     ]
    },
    {
     "name": "stdout",
     "output_type": "stream",
     "text": [
      "Avaliando modelo /home/viviane/Documents/Computação Evolutiva/Trabalho_2/mergekit/de_merged/merge_2/final_model\n"
     ]
    },
    {
     "name": "stderr",
     "output_type": "stream",
     "text": [
      "Some weights of BertForSequenceClassification were not initialized from the model checkpoint at /home/viviane/Documents/Computação Evolutiva/Trabalho_2/mergekit/de_merged/merge_2/final_model and are newly initialized: ['classifier.bias', 'classifier.weight']\n",
      "You should probably TRAIN this model on a down-stream task to be able to use it for predictions and inference.\n",
      "Map: 100%|██████████| 5000/5000 [11:19<00:00,  7.36 examples/s]\n",
      "/tmp/ipykernel_402241/425260471.py:23: FutureWarning: Downcasting behavior in `replace` is deprecated and will be removed in a future version. To retain the old behavior, explicitly call `result.infer_objects(copy=False)`. To opt-in to the future behavior, set `pd.set_option('future.no_silent_downcasting', True)`\n",
      "  df['model_label'] = df['label'].replace('Positivo', 1).replace('Negativo', 0).replace('Neutro', -1)\n"
     ]
    },
    {
     "name": "stdout",
     "output_type": "stream",
     "text": [
      "Avaliando modelo /home/viviane/Documents/Computação Evolutiva/Trabalho_2/mergekit/de_merged/merge_3/final_model\n"
     ]
    },
    {
     "name": "stderr",
     "output_type": "stream",
     "text": [
      "Map: 100%|██████████| 5000/5000 [10:50<00:00,  7.68 examples/s]\n",
      "/tmp/ipykernel_402241/425260471.py:23: FutureWarning: Downcasting behavior in `replace` is deprecated and will be removed in a future version. To retain the old behavior, explicitly call `result.infer_objects(copy=False)`. To opt-in to the future behavior, set `pd.set_option('future.no_silent_downcasting', True)`\n",
      "  df['model_label'] = df['label'].replace('Positivo', 1).replace('Negativo', 0).replace('Neutro', -1)\n"
     ]
    },
    {
     "name": "stdout",
     "output_type": "stream",
     "text": [
      "Avaliando modelo /home/viviane/Documents/Computação Evolutiva/Trabalho_2/mergekit/de_merged/merge_4/final_model\n"
     ]
    },
    {
     "name": "stderr",
     "output_type": "stream",
     "text": [
      "Map: 100%|██████████| 5000/5000 [09:42<00:00,  8.58 examples/s]\n",
      "/tmp/ipykernel_402241/425260471.py:23: FutureWarning: Downcasting behavior in `replace` is deprecated and will be removed in a future version. To retain the old behavior, explicitly call `result.infer_objects(copy=False)`. To opt-in to the future behavior, set `pd.set_option('future.no_silent_downcasting', True)`\n",
      "  df['model_label'] = df['label'].replace('Positivo', 1).replace('Negativo', 0).replace('Neutro', -1)\n"
     ]
    },
    {
     "name": "stdout",
     "output_type": "stream",
     "text": [
      "Avaliando modelo /home/viviane/Documents/Computação Evolutiva/Trabalho_2/mergekit/de_merged/merge_5/final_model\n"
     ]
    },
    {
     "name": "stderr",
     "output_type": "stream",
     "text": [
      "Some weights of BertForSequenceClassification were not initialized from the model checkpoint at /home/viviane/Documents/Computação Evolutiva/Trabalho_2/mergekit/de_merged/merge_5/final_model and are newly initialized: ['classifier.bias', 'classifier.weight']\n",
      "You should probably TRAIN this model on a down-stream task to be able to use it for predictions and inference.\n",
      "Map: 100%|██████████| 5000/5000 [09:42<00:00,  8.58 examples/s]\n",
      "/tmp/ipykernel_402241/425260471.py:23: FutureWarning: Downcasting behavior in `replace` is deprecated and will be removed in a future version. To retain the old behavior, explicitly call `result.infer_objects(copy=False)`. To opt-in to the future behavior, set `pd.set_option('future.no_silent_downcasting', True)`\n",
      "  df['model_label'] = df['label'].replace('Positivo', 1).replace('Negativo', 0).replace('Neutro', -1)\n"
     ]
    }
   ],
   "source": [
    "root = f'mergekit'\n",
    "opt = 'de_merged'\n",
    "\n",
    "metrics = []\n",
    "\n",
    "for ds in datasets:\n",
    "    outputs = []\n",
    "    for i in range(1, 6):\n",
    "        outputs.append(_eval_model(f'{root}/{opt}/merge_{i}/final_model', ds)['score'])\n",
    "    metrics.append(outputs)\n",
    "\n"
   ]
  },
  {
   "cell_type": "code",
   "execution_count": 6,
   "metadata": {},
   "outputs": [
    {
     "data": {
      "text/plain": [
       "[0.8149807938540333,\n",
       " 0.00487012987012987,\n",
       " 0.8255481410867492,\n",
       " 0.8218992903007772,\n",
       " 0.4959481361426256]"
      ]
     },
     "execution_count": 6,
     "metadata": {},
     "output_type": "execute_result"
    }
   ],
   "source": [
    "metrics[1]"
   ]
  },
  {
   "cell_type": "code",
   "execution_count": 7,
   "metadata": {},
   "outputs": [],
   "source": [
    "df = pd.DataFrame({'metrics_sst2': metrics[0], 'metrics_imdb': metrics[1]})\n",
    "df.to_csv('meticas_de.csv', index=False)"
   ]
  },
  {
   "cell_type": "code",
   "execution_count": null,
   "metadata": {},
   "outputs": [],
   "source": []
  }
 ],
 "metadata": {
  "kernelspec": {
   "display_name": "env",
   "language": "python",
   "name": "python3"
  },
  "language_info": {
   "codemirror_mode": {
    "name": "ipython",
    "version": 3
   },
   "file_extension": ".py",
   "mimetype": "text/x-python",
   "name": "python",
   "nbconvert_exporter": "python",
   "pygments_lexer": "ipython3",
   "version": "3.10.12"
  }
 },
 "nbformat": 4,
 "nbformat_minor": 2
}
